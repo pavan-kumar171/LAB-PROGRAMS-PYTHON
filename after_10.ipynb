{
 "cells": [
  {
   "cell_type": "code",
   "execution_count": 3,
   "id": "e070fea1",
   "metadata": {},
   "outputs": [
    {
     "name": "stdout",
     "output_type": "stream",
     "text": [
      "column names are name,department,birth month\n",
      " \n",
      "\t harish works in the MECH department, and was born in june .\n",
      "\n",
      "\t dhruva works in the CS department, and was born in feb.\n",
      "\n",
      "\t rohith works in the AI department, and was born in march.\n",
      "\n",
      "procedded 4 line.\n"
     ]
    }
   ],
   "source": [
    "import csv\n",
    " \n",
    "file=open('Untitled 1.csv',mode='r')\n",
    "csv_reader=csv.reader(file,delimiter=',')\n",
    "line_count=0\n",
    "\n",
    "for row in csv_reader:\n",
    "    if line_count==0:\n",
    "        #print(row)\n",
    "        #print(type(row))\n",
    "        #break\n",
    "        print(f'column names are {\",\".join(row)}') \n",
    "        print(\" \")\n",
    "        line_count+=1\n",
    "    else:\n",
    "              print(f'\\t {row[0]} works in the {row[1]} department, and was born in {row[2]}.\\n')\n",
    "              line_count+=1\n",
    "print(f'procedded {line_count} line.')"
   ]
  },
  {
   "cell_type": "markdown",
   "id": "faa3debb",
   "metadata": {},
   "source": [
    "## EXP 12"
   ]
  },
  {
   "cell_type": "markdown",
   "id": "e30fc832",
   "metadata": {},
   "source": [
    "### Develop a python program to read a HTML file with basic tags and construct a dictionary and display same in the console"
   ]
  },
  {
   "cell_type": "code",
   "execution_count": 26,
   "id": "63b19c22",
   "metadata": {},
   "outputs": [
    {
     "name": "stdout",
     "output_type": "stream",
     "text": [
      "{'Table_1': {'Name': ['Alice', 'Bob'], 'Age': [24, 27]}, 'Table_2': {'Country': ['France', 'Italy'], 'Capital': ['Paris', 'Rome']}}\n"
     ]
    }
   ],
   "source": [
    "import pandas as pd\n",
    "\n",
    "def read_html_to_dict(html_file):\n",
    "    tables=pd.read_html(html_file)\n",
    "    tables_dict={}\n",
    "    for i, table in enumerate(tables):\n",
    "        table_dict=table.to_dict(orient='list')\n",
    "        tables_dict[f'Table_{i+1}']=table_dict\n",
    "    return tables_dict\n",
    "\n",
    "if __name__ == '__main__':\n",
    "    html_file='sample.html'\n",
    "    result=read_html_to_dict(html_file)\n",
    "    print(result)"
   ]
  },
  {
   "cell_type": "code",
   "execution_count": null,
   "id": "724668ab",
   "metadata": {},
   "outputs": [],
   "source": []
  }
 ],
 "metadata": {
  "kernelspec": {
   "display_name": "Python 3 (ipykernel)",
   "language": "python",
   "name": "python3"
  },
  "language_info": {
   "codemirror_mode": {
    "name": "ipython",
    "version": 3
   },
   "file_extension": ".py",
   "mimetype": "text/x-python",
   "name": "python",
   "nbconvert_exporter": "python",
   "pygments_lexer": "ipython3",
   "version": "3.10.9"
  }
 },
 "nbformat": 4,
 "nbformat_minor": 5
}
