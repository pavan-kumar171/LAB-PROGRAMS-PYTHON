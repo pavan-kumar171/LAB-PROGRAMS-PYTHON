{
 "cells": [
  {
   "cell_type": "markdown",
   "id": "997f1ddd",
   "metadata": {},
   "source": [
    "### EXP-1. \n",
    "#### Develop a python program to read n digit integer number and seperate the integer number and display each digit"
   ]
  },
  {
   "cell_type": "code",
   "execution_count": 27,
   "id": "3f503ffe",
   "metadata": {},
   "outputs": [
    {
     "name": "stdout",
     "output_type": "stream",
     "text": [
      "enter the number of digits:4\n",
      "Enter a 4-digit integer:1238\n",
      "1\n",
      "2\n",
      "3\n",
      "8\n"
     ]
    }
   ],
   "source": [
    "n=int(input(\"enter the number of digits:\"))\n",
    "if n>0:\n",
    "    number=int(input(f\"Enter a {n}-digit integer:\"))\n",
    "    if number>=10**(n-1) and number<10**n:\n",
    "        for i  in range(n):\n",
    "         digit=number//(10**(n-1))\n",
    "         print(digit)\n",
    "         number%=10**(n-1)\n",
    "         n-=1\n",
    "    else:\n",
    "         print(f'Please enter a {n}-digit integer:')\n",
    "else:\n",
    "     print(f\" Please enter a valid number of digits(greater than 0).\")"
   ]
  },
  {
   "cell_type": "markdown",
   "id": "a1bb3b79",
   "metadata": {},
   "source": [
    "## OR"
   ]
  },
  {
   "cell_type": "code",
   "execution_count": 10,
   "id": "fcc9fe17",
   "metadata": {},
   "outputs": [
    {
     "name": "stdout",
     "output_type": "stream",
     "text": [
      "enter the number of digits:4\n",
      "Enter a 4-digit integer:8796\n",
      "8\n",
      "7\n",
      "9\n",
      "6\n"
     ]
    }
   ],
   "source": [
    "n=int(input(\"enter the number of digits:\"))\n",
    "if n>0:\n",
    "    number=int(input(f\"Enter a {n}-digit integer:\"))\n",
    "    if len(str(number))==n:\n",
    "        for i  in range(n):\n",
    "         digit=number//(10**(n-1))\n",
    "         print(digit)\n",
    "         number%=10**(n-1)\n",
    "         n-=1\n",
    "    else:\n",
    "         print(f'Please enter a {n}-digit integer:')\n",
    "else:\n",
    "     print(f\" Please enter a valid number of digits(greater than 0).\")"
   ]
  },
  {
   "cell_type": "markdown",
   "id": "04f67a9f",
   "metadata": {},
   "source": [
    "### EXP-2\n",
    "#### Develop a python program to accept 4 numbers and display them in sorted order using a minimum number of if else statements"
   ]
  },
  {
   "cell_type": "code",
   "execution_count": 7,
   "id": "bf394f9d",
   "metadata": {},
   "outputs": [
    {
     "name": "stdout",
     "output_type": "stream",
     "text": [
      "enter the first number:10\n",
      "enter the second number:6\n",
      "enter the third number:9\n",
      "enter the fourth number:65\n",
      "The sorted numbers are: 6 9 10 65\n"
     ]
    }
   ],
   "source": [
    "a=int(input(\"enter the first number:\"))\n",
    "b=int(input(\"enter the second number:\"))\n",
    "c=int(input(\"enter the third number:\"))\n",
    "d=int(input(\"enter the fourth number:\"))\n",
    "if a>b:a,b=b,a\n",
    "if c>d:c,d=d,c\n",
    "if a>c:a,c=c,a\n",
    "if b>d:b,d=d,b\n",
    "if b>c:b,c=c,b\n",
    "print(\"The sorted numbers are:\",a,b,c,d)"
   ]
  },
  {
   "cell_type": "markdown",
   "id": "f58baccc",
   "metadata": {},
   "source": [
    "#### descending order"
   ]
  },
  {
   "cell_type": "code",
   "execution_count": 12,
   "id": "a0ba6b0b",
   "metadata": {},
   "outputs": [
    {
     "name": "stdout",
     "output_type": "stream",
     "text": [
      "enter the first number:9\n",
      "enter the second number:78\n",
      "enter the third number:67\n",
      "enter the fourth number:10\n",
      "The sorted numbers are: 78 67 10 9\n"
     ]
    }
   ],
   "source": [
    "a=int(input(\"enter the first number:\"))\n",
    "b=int(input(\"enter the second number:\"))\n",
    "c=int(input(\"enter the third number:\"))\n",
    "d=int(input(\"enter the fourth number:\"))\n",
    "if a<b:a,b=b,a\n",
    "if c<d:c,d=d,c\n",
    "if a<c:a,c=c,a\n",
    "if b<d:b,d=d,b\n",
    "if b<c:b,c=c,b\n",
    "print(\"The sorted numbers are:\",a,b,c,d)"
   ]
  },
  {
   "cell_type": "code",
   "execution_count": 22,
   "id": "4ba91486",
   "metadata": {},
   "outputs": [
    {
     "data": {
      "text/plain": [
       "8"
      ]
     },
     "execution_count": 22,
     "metadata": {},
     "output_type": "execute_result"
    }
   ],
   "source": [
    "# and \n",
    "10&9"
   ]
  },
  {
   "cell_type": "code",
   "execution_count": 23,
   "id": "51d0c98f",
   "metadata": {},
   "outputs": [
    {
     "data": {
      "text/plain": [
       "11"
      ]
     },
     "execution_count": 23,
     "metadata": {},
     "output_type": "execute_result"
    }
   ],
   "source": [
    "# OR\n",
    "10|9\n"
   ]
  },
  {
   "cell_type": "code",
   "execution_count": 24,
   "id": "fac3cecb",
   "metadata": {},
   "outputs": [
    {
     "data": {
      "text/plain": [
       "-11"
      ]
     },
     "execution_count": 24,
     "metadata": {},
     "output_type": "execute_result"
    }
   ],
   "source": [
    "# NOT\n",
    "~10"
   ]
  },
  {
   "cell_type": "code",
   "execution_count": 25,
   "id": "fa06692b",
   "metadata": {},
   "outputs": [
    {
     "data": {
      "text/plain": [
       "3"
      ]
     },
     "execution_count": 25,
     "metadata": {},
     "output_type": "execute_result"
    }
   ],
   "source": [
    "#X0R\n",
    "10^9"
   ]
  },
  {
   "cell_type": "code",
   "execution_count": 26,
   "id": "04d0889a",
   "metadata": {},
   "outputs": [],
   "source": [
    "a=-3\n"
   ]
  },
  {
   "cell_type": "code",
   "execution_count": 36,
   "id": "5f117170",
   "metadata": {},
   "outputs": [
    {
     "data": {
      "text/plain": [
       "6"
      ]
     },
     "execution_count": 36,
     "metadata": {},
     "output_type": "execute_result"
    }
   ],
   "source": [
    "a>>1"
   ]
  },
  {
   "cell_type": "code",
   "execution_count": 38,
   "id": "505e306a",
   "metadata": {},
   "outputs": [
    {
     "data": {
      "text/plain": [
       "3"
      ]
     },
     "execution_count": 38,
     "metadata": {},
     "output_type": "execute_result"
    }
   ],
   "source": [
    "a=12\n",
    "a>>2"
   ]
  },
  {
   "cell_type": "code",
   "execution_count": 41,
   "id": "4d4f024d",
   "metadata": {},
   "outputs": [
    {
     "data": {
      "text/plain": [
       "-3"
      ]
     },
     "execution_count": 41,
     "metadata": {},
     "output_type": "execute_result"
    }
   ],
   "source": [
    "a=-12\n",
    "a>>2"
   ]
  },
  {
   "cell_type": "code",
   "execution_count": 47,
   "id": "157fbb5f",
   "metadata": {},
   "outputs": [
    {
     "data": {
      "text/plain": [
       "2"
      ]
     },
     "execution_count": 47,
     "metadata": {},
     "output_type": "execute_result"
    }
   ],
   "source": [
    "a>>2\n"
   ]
  },
  {
   "cell_type": "code",
   "execution_count": 55,
   "id": "7f8d7867",
   "metadata": {},
   "outputs": [
    {
     "name": "stdout",
     "output_type": "stream",
     "text": [
      "enter3\n",
      "23\n"
     ]
    }
   ],
   "source": [
    "a=int(input('enter'))\n",
    "a=a+20\n",
    "print(a)"
   ]
  },
  {
   "cell_type": "markdown",
   "id": "2f7b17db",
   "metadata": {},
   "source": [
    "## 3) Develop a program for checking if a given n digit number is palindrome or not\n"
   ]
  },
  {
   "cell_type": "code",
   "execution_count": 1,
   "id": "179a5fea",
   "metadata": {},
   "outputs": [
    {
     "name": "stdout",
     "output_type": "stream",
     "text": [
      "Enter an n-digit number:1221\n",
      "Palindrome\n"
     ]
    }
   ],
   "source": [
    "number=int(input(\"Enter an n-digit number:\"))\n",
    "original_number=number\n",
    "reversed_number=0\n",
    "while number>0:\n",
    "    digit=number%10\n",
    "    reversed_number=reversed_number*10+digit\n",
    "    number//=10\n",
    "if original_number==reversed_number:\n",
    "    print(\"Palindrome\")\n",
    "else:\n",
    "    print(\"Not Palindrome\")\n",
    "               \n",
    "            \n",
    "    \n",
    "\n"
   ]
  },
  {
   "cell_type": "markdown",
   "id": "f9878ece",
   "metadata": {},
   "source": [
    "## 4) Develop a python script to display a multiplication table for a given integer "
   ]
  },
  {
   "cell_type": "code",
   "execution_count": 2,
   "id": "8558b895",
   "metadata": {},
   "outputs": [
    {
     "name": "stdout",
     "output_type": "stream",
     "text": [
      "enter an integer for multipication table:6\n",
      "multiplication table for 6:\n",
      "6*1=6\n",
      "6*2=12\n",
      "6*3=18\n",
      "6*4=24\n",
      "6*5=30\n",
      "6*6=36\n",
      "6*7=42\n",
      "6*8=48\n",
      "6*9=54\n",
      "6*10=60\n"
     ]
    }
   ],
   "source": [
    "n=int(input(\"enter an integer for multipication table:\"))\n",
    "print(f\"multiplication table for {n}:\")\n",
    "for i in range (1,11):\n",
    "    result= n*i\n",
    "    print(f\"{n}*{i}={result}\")\n",
    "    "
   ]
  },
  {
   "cell_type": "markdown",
   "id": "8ac17b2d",
   "metadata": {},
   "source": [
    "## 5) Develop python scripts to calculate the mean ,median,mode,variance and standard deviation of n integer number"
   ]
  },
  {
   "cell_type": "code",
   "execution_count": 5,
   "id": "42cee9d7",
   "metadata": {},
   "outputs": [
    {
     "name": "stdout",
     "output_type": "stream",
     "text": [
      "Enter the number of elements:6\n",
      "Enter number1:4\n",
      "Enter number2:8\n",
      "Enter number3:6\n",
      "Enter number4:5\n",
      "Enter number5:3\n",
      "Enter number6:9\n",
      "Mean:5.833333333333333\n",
      "Median:5.5\n",
      "Mode:no mode\n",
      "sample Variance:5.366666666666667\n",
      "Population Variance:4.472222222222222\n",
      "Sample Standard Deviation:2.316606713852541\n",
      "Population Standard Deviation:2.1147629234082532\n"
     ]
    }
   ],
   "source": [
    "n=int(input(\"Enter the number of elements:\"))\n",
    "numbers=[int(input(f\"Enter number{i+1}:\"))for i in range(n)]\n",
    "#mean\n",
    "mean=sum(numbers)/n\n",
    "#median\n",
    "numbers.sort()\n",
    "if n%2==0:\n",
    "    median=(numbers[n//2-1]+numbers[n//2])/2\n",
    "else:\n",
    "    median=numbers[n//2]\n",
    "frequency={num:numbers.count(num)for num in numbers}\n",
    "max_count=max(frequency.values())\n",
    "mode=[k for k,v in frequency.items() if v==max_count]\n",
    "if len(mode)==n:\n",
    "    mode=\"no mode\"\n",
    "mean_difference_squared_sum=sum((x-mean)**2 for x in  numbers)\n",
    "variance_sample=mean_difference_squared_sum/(n-1) if n>1 else 0\n",
    "variance_population=mean_difference_squared_sum/n\n",
    "std_deviation_sample=variance_sample**0.5\n",
    "std_deviation_population=variance_population**0.5\n",
    "print(f\"Mean:{mean}\")\n",
    "print(f\"Median:{median}\")\n",
    "print(f\"Mode:{mode}\")\n",
    "print(f\"sample Variance:{variance_sample}\")\n",
    "print(f\"Population Variance:{variance_population}\")\n",
    "print(f\"Sample Standard Deviation:{std_deviation_sample}\")\n",
    "print(f\"Population Standard Deviation:{std_deviation_population}\")"
   ]
  },
  {
   "cell_type": "code",
   "execution_count": 9,
   "id": "69ac9154",
   "metadata": {},
   "outputs": [
    {
     "data": {
      "text/plain": [
       "dict_items([('a', 10), ('b', 20), ('c', 30)])"
      ]
     },
     "execution_count": 9,
     "metadata": {},
     "output_type": "execute_result"
    }
   ],
   "source": [
    "D1={'a':10,'b':20,'c':30}\n",
    "D1\n",
    "D1.keys()\n",
    "D1.values()\n",
    "D1.items()\n"
   ]
  },
  {
   "cell_type": "code",
   "execution_count": 12,
   "id": "69d66d56",
   "metadata": {},
   "outputs": [
    {
     "name": "stdout",
     "output_type": "stream",
     "text": [
      "5\n",
      "loop finished without break:\n",
      "4\n",
      "loop finished without break:\n",
      "3\n",
      "loop finished without break:\n",
      "2\n",
      "loop finished without break:\n",
      "1\n",
      "loop finished without break:\n"
     ]
    }
   ],
   "source": [
    "n=5\n",
    "while n>0:\n",
    "    print(n)\n",
    "    n-=1\n",
    "\n",
    "    print(\"loop finished without break:\")\n",
    "    "
   ]
  },
  {
   "cell_type": "code",
   "execution_count": 2,
   "id": "c14667a6",
   "metadata": {},
   "outputs": [
    {
     "name": "stdout",
     "output_type": "stream",
     "text": [
      "5\n",
      "4\n",
      "3\n"
     ]
    }
   ],
   "source": [
    "n=5\n",
    "while n>0:\n",
    "    print(n)\n",
    "    if n==3:\n",
    "        break\n",
    "    n-=1\n",
    "else:  \n",
    "    print(\"loop finished without break:\")\n",
    "    "
   ]
  },
  {
   "cell_type": "code",
   "execution_count": 17,
   "id": "39a3c73c",
   "metadata": {},
   "outputs": [
    {
     "name": "stdout",
     "output_type": "stream",
     "text": [
      "5\n",
      "4\n",
      "3\n",
      "loop finished without break:\n"
     ]
    }
   ],
   "source": [
    "n=5\n",
    "while n>0:\n",
    "    print(n)\n",
    "    if n==3:\n",
    "        break\n",
    "    n-=1\n",
    " \n",
    "print(\"loop finished without break:\")\n",
    "    "
   ]
  },
  {
   "cell_type": "code",
   "execution_count": 22,
   "id": "c0e7a54b",
   "metadata": {},
   "outputs": [
    {
     "name": "stdout",
     "output_type": "stream",
     "text": [
      "Factorial of 1 is\n",
      "1\n",
      "Factorial of 2 is\n",
      "1\n",
      "2\n",
      "Factorial of 3 is\n",
      "1\n",
      "2\n",
      "6\n"
     ]
    }
   ],
   "source": [
    "n=range(1,4)\n",
    "for j in n:\n",
    "    print(\"Factorial of \"+str(j)+\" is\")\n",
    "    mul=1\n",
    "    for i in range(1,j+1):\n",
    "        mul=mul*i\n",
    "        print(mul)"
   ]
  },
  {
   "cell_type": "code",
   "execution_count": 20,
   "id": "e2d04405",
   "metadata": {},
   "outputs": [
    {
     "name": "stdout",
     "output_type": "stream",
     "text": [
      "1 4\n",
      "1 5\n",
      "2 4\n",
      "2 5\n"
     ]
    }
   ],
   "source": [
    "x=[1,2]\n",
    "y=[4,5]\n",
    "for i in x:\n",
    "    for j in y:\n",
    "        print(i,j)"
   ]
  },
  {
   "cell_type": "markdown",
   "id": "67894d87",
   "metadata": {},
   "source": [
    "## EXp-6"
   ]
  },
  {
   "cell_type": "markdown",
   "id": "9985caa9",
   "metadata": {},
   "source": [
    "### Develop a python script to rotate right about a given position in that list and display them"
   ]
  },
  {
   "cell_type": "code",
   "execution_count": 3,
   "id": "1beef381",
   "metadata": {},
   "outputs": [
    {
     "name": "stdout",
     "output_type": "stream",
     "text": [
      "Enter the integer number:-24\n",
      "the reverse number is 0\n"
     ]
    }
   ],
   "source": [
    "number=int(input(\"Enter the integer number:\"))\n",
    "revs_number=0\n",
    "while(number>0):\n",
    "    remainder=number%10\n",
    "    revs_number=(revs_number*10)+remainder\n",
    "    number=number//10\n",
    "print(\"the reverse number is {}\".format(revs_number))"
   ]
  },
  {
   "cell_type": "markdown",
   "id": "b61e7d68",
   "metadata": {},
   "source": [
    "## EXP-7"
   ]
  },
  {
   "cell_type": "markdown",
   "id": "9fbaf777",
   "metadata": {},
   "source": [
    "### Develop a python script to interchange the digits of a given integer number"
   ]
  },
  {
   "cell_type": "code",
   "execution_count": 6,
   "id": "7bddde27",
   "metadata": {},
   "outputs": [
    {
     "name": "stdout",
     "output_type": "stream",
     "text": [
      "Enter the user input:23456\n",
      "Enter the 1st position which you want to swap:3\n",
      "Enter the 2nd position which you want to swap:5\n",
      "Original number: 23456\n",
      "Interchanged number: 23654\n"
     ]
    }
   ],
   "source": [
    "def interchange_digits(number,pos1,pos2):\n",
    "    number_str=str(number)\n",
    "    number_list=list(number_str)\n",
    "    number_list[pos1-1],number_list[pos2-1]=number_list[pos2-1],number_list[pos1-1]\n",
    "    interchanged_number=int(''.join(number_list))\n",
    "    return interchanged_number\n",
    "number=int(input(\"Enter the user input:\"))\n",
    "pos1=int(input(\"Enter the 1st position which you want to swap:\"))\n",
    "pos2=int(input(\"Enter the 2nd position which you want to swap:\"))\n",
    "interchanged_number=interchange_digits(number,pos1,pos2)\n",
    "print(\"Original number:\",number)\n",
    "print(\"Interchanged number:\",interchanged_number)"
   ]
  },
  {
   "cell_type": "markdown",
   "id": "778270e5",
   "metadata": {},
   "source": [
    "### program for natural numbers"
   ]
  },
  {
   "cell_type": "code",
   "execution_count": 9,
   "id": "56dc9839",
   "metadata": {},
   "outputs": [
    {
     "name": "stdout",
     "output_type": "stream",
     "text": [
      "enter the numbers:6\n",
      "1 2 3 4 5 6 "
     ]
    }
   ],
   "source": [
    "n=int(input(\"enter the numbers:\"))\n",
    "i=1\n",
    "while i<=n:\n",
    "    print(i,end=\" \")\n",
    "    i+=1"
   ]
  },
  {
   "cell_type": "markdown",
   "id": "c0cf5d62",
   "metadata": {},
   "source": [
    "### program for even numbers"
   ]
  },
  {
   "cell_type": "code",
   "execution_count": 11,
   "id": "8d4ebc7f",
   "metadata": {},
   "outputs": [
    {
     "name": "stdout",
     "output_type": "stream",
     "text": [
      "enter the value:8\n",
      "2 4 6 8 "
     ]
    }
   ],
   "source": [
    "n=int(input(\"enter the value:\"))\n",
    "i=2\n",
    "while i <=n:\n",
    "    print(i,end=\" \")\n",
    "    i+=2"
   ]
  },
  {
   "cell_type": "markdown",
   "id": "8418930f",
   "metadata": {},
   "source": [
    "### program for odd numbers"
   ]
  },
  {
   "cell_type": "code",
   "execution_count": 13,
   "id": "5d758470",
   "metadata": {},
   "outputs": [
    {
     "name": "stdout",
     "output_type": "stream",
     "text": [
      "enter the value:6\n",
      "1 3 5 "
     ]
    }
   ],
   "source": [
    "n=int(input(\"enter the value:\"))\n",
    "i=1\n",
    "while i <=n:\n",
    "    print(i,end=\" \")\n",
    "    i+=2"
   ]
  },
  {
   "cell_type": "code",
   "execution_count": 29,
   "id": "fc1392a8",
   "metadata": {},
   "outputs": [
    {
     "name": "stdout",
     "output_type": "stream",
     "text": [
      "Enter a positive integer: 5\n",
      "The sum of natural numbers up to 5 is: 15\n"
     ]
    }
   ],
   "source": [
    "def sum_of_natural_numbers(n):\n",
    "    return n * (n + 1) // 2\n",
    "try:\n",
    "    number = int(input(\"Enter a positive integer: \"))\n",
    "    if number < 0:\n",
    "        print(\"Please enter a positive integer.\")\n",
    "    else:\n",
    "        result = sum_of_natural_numbers(number)\n",
    "        print(f\"The sum of natural numbers up to {number} is: {result}\")\n",
    "except ValueError:\n",
    "    print(\"Invalid input! Please enter a valid positive integer.\")\n"
   ]
  },
  {
   "cell_type": "code",
   "execution_count": 28,
   "id": "7d338e91",
   "metadata": {},
   "outputs": [
    {
     "name": "stdout",
     "output_type": "stream",
     "text": [
      "Enter a natural number: 6\n",
      "Sum: 21\n"
     ]
    }
   ],
   "source": [
    "n = int(input(\"Enter a natural number: \"))\n",
    "if n >= 0:\n",
    "    print(\"Sum:\", n * (n + 1) // 2)\n",
    "else:\n",
    "    print(\"Please enter a non-negative number.\")\n"
   ]
  },
  {
   "cell_type": "markdown",
   "id": "5cedb0e1",
   "metadata": {},
   "source": [
    "## EXP 8"
   ]
  },
  {
   "cell_type": "markdown",
   "id": "a79dfc67",
   "metadata": {},
   "source": [
    "### Develop a python program to capitalize a given list of strings"
   ]
  },
  {
   "cell_type": "code",
   "execution_count": 3,
   "id": "89d580fd",
   "metadata": {},
   "outputs": [
    {
     "name": "stdout",
     "output_type": "stream",
     "text": [
      "['Hello', 'Good', 'How', 'Simple']\n"
     ]
    }
   ],
   "source": [
    "def capitalize_strings(string_list):\n",
    "    return[s.capitalize() for s in string_list]\n",
    "input_strings=['hello','good','how','simple']\n",
    "capitalized_strings=capitalize_strings(input_strings)\n",
    "print(capitalized_strings)"
   ]
  },
  {
   "cell_type": "markdown",
   "id": "b0cbe0f1",
   "metadata": {},
   "source": [
    "## EXP 9"
   ]
  },
  {
   "cell_type": "markdown",
   "id": "a9f69b28",
   "metadata": {},
   "source": [
    "### Using a dictionary develop a python program to determine and print the number of duplicate words in a sentence\n"
   ]
  },
  {
   "cell_type": "code",
   "execution_count": 2,
   "id": "3a109858",
   "metadata": {},
   "outputs": [
    {
     "name": "stdout",
     "output_type": "stream",
     "text": [
      "enter a sentence:my name is pavan and my branch name is aiml\n",
      "Duplicate words and their counts:\n",
      "my:2\n",
      "name:2\n",
      "is:2\n"
     ]
    }
   ],
   "source": [
    "def count_duplicate_words(sentence):\n",
    "    words=sentence.split()\n",
    "    word_count={ }\n",
    "    for word in words:\n",
    "        word=word.lower()\n",
    "        if word in word_count:\n",
    "            word_count[word]+=1\n",
    "        else:\n",
    "            word_count[word]=1\n",
    "    duplicates={word:count for word,count in word_count.items() if count >1}\n",
    "    if duplicates:\n",
    "        print(\"Duplicate words and their counts:\")\n",
    "        for word,count in duplicates.items():\n",
    "            print(f\"{word}:{count}\")\n",
    "    else:\n",
    "        print(\"no duplicate words found \")\n",
    "sentence=input(\"enter a sentence:\")\n",
    "count_duplicate_words(sentence)"
   ]
  },
  {
   "cell_type": "markdown",
   "id": "9821b7a7",
   "metadata": {},
   "source": [
    "## EXP-10"
   ]
  },
  {
   "cell_type": "markdown",
   "id": "b38f533b",
   "metadata": {},
   "source": [
    "### Develop a python program to read Numpy array and print row (sum,mean,standard deviation) and column(row,mean,standard deviation)"
   ]
  },
  {
   "cell_type": "code",
   "execution_count": 5,
   "id": "d0cd6b2a",
   "metadata": {},
   "outputs": [
    {
     "name": "stdout",
     "output_type": "stream",
     "text": [
      "Numpy Array\n",
      "[[1 2 3]\n",
      " [4 5 6]]\n",
      "____________________\n",
      "Row Sum\n",
      "[ 6 15]\n",
      "Column Sum\n",
      "[5 7 9]\n",
      "____________________\n",
      "Row Mean\n",
      "[2. 5.]\n",
      "Column Mean\n",
      "[2.5 3.5 4.5]\n",
      "____________________\n",
      "Row Standard Deviation\n",
      "[0.81649658 0.81649658]\n",
      "Column Standard Deviation\n",
      "[1.5 1.5 1.5]\n"
     ]
    }
   ],
   "source": [
    "from numpy import asarray\n",
    "data=[[1,2,3],[4,5,6]]\n",
    "data=asarray(data)\n",
    "print(\"Numpy Array\")\n",
    "print(data)\n",
    "print(\"____________________\")\n",
    "totalr=data.sum(axis=1)\n",
    "totalc=data.sum(axis=0)\n",
    "print(\"Row Sum\")\n",
    "print(totalr)\n",
    "print(\"Column Sum\")\n",
    "print(totalc)\n",
    "print(\"____________________\")\n",
    "meanr=data.mean(axis=1)\n",
    "meanc=data.mean(axis=0)\n",
    "print(\"Row Mean\")\n",
    "print(meanr)\n",
    "print(\"Column Mean\")\n",
    "print(meanc)\n",
    "print(\"____________________\")\n",
    "stdr=data.std(axis=1)\n",
    "stdc=data.std(axis=0)\n",
    "print(\"Row Standard Deviation\")\n",
    "print(stdr)\n",
    "print(\"Column Standard Deviation\")\n",
    "print(stdc)"
   ]
  },
  {
   "cell_type": "code",
   "execution_count": null,
   "id": "19b139d6",
   "metadata": {},
   "outputs": [],
   "source": []
  }
 ],
 "metadata": {
  "kernelspec": {
   "display_name": "Python 3 (ipykernel)",
   "language": "python",
   "name": "python3"
  },
  "language_info": {
   "codemirror_mode": {
    "name": "ipython",
    "version": 3
   },
   "file_extension": ".py",
   "mimetype": "text/x-python",
   "name": "python",
   "nbconvert_exporter": "python",
   "pygments_lexer": "ipython3",
   "version": "3.10.9"
  }
 },
 "nbformat": 4,
 "nbformat_minor": 5
}
